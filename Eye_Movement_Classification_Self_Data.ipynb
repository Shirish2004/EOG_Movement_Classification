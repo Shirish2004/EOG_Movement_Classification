{
  "nbformat": 4,
  "nbformat_minor": 0,
  "metadata": {
    "colab": {
      "name": "Eye_Movement_Classification_Self_Data.ipynb",
      "provenance": [],
      "collapsed_sections": [],
      "authorship_tag": "ABX9TyO+sCGuWWP6IWEyIAAra3RD",
      "include_colab_link": true
    },
    "kernelspec": {
      "name": "python3",
      "display_name": "Python 3"
    },
    "language_info": {
      "name": "python"
    }
  },
  "cells": [
    {
      "cell_type": "markdown",
      "metadata": {
        "id": "view-in-github",
        "colab_type": "text"
      },
      "source": [
        "<a href=\"https://colab.research.google.com/github/Shirish2004/EOG_Movement_Classification/blob/main/Eye_Movement_Classification_Self_Data.ipynb\" target=\"_parent\"><img src=\"https://colab.research.google.com/assets/colab-badge.svg\" alt=\"Open In Colab\"/></a>"
      ]
    },
    {
      "cell_type": "markdown",
      "source": [
        "CREATING A NEURAL NETWORK MODEL FOR THE CLASSIFICATION OF FORWARD SACCCADE, BACKWARD SACCADE AND EYE BLINK \n",
        "RESPECTIVELY DENOTED AS 1,2,3 LABELS.\n",
        "\n",
        "We will be using sequential api of the keras library .\n",
        "Keras library is a python library used for dee[ learning that wraps the efficient numerical libraries like Tensorflow and Theano.\n",
        "Keras lets us design sequential and complex neural network easily and efficiently ."
      ],
      "metadata": {
        "id": "VRku5gfjsQ7I"
      }
    },
    {
      "cell_type": "code",
      "source": [
        "#importing libraries and mounting google drive \n",
        "import pandas as pd \n",
        "import matplotlib.pyplot as plt \n",
        "import tensorflow as tf \n",
        "from tensorflow import keras \n",
        "import numpy as np \n",
        "from google.colab import drive\n",
        "drive.mount('/content/drive')"
      ],
      "metadata": {
        "colab": {
          "base_uri": "https://localhost:8080/"
        },
        "id": "45efkl4qtPu0",
        "outputId": "4fa3d48d-8622-4796-e2c7-8a127048f882"
      },
      "execution_count": null,
      "outputs": [
        {
          "output_type": "stream",
          "name": "stdout",
          "text": [
            "Mounted at /content/drive\n"
          ]
        }
      ]
    },
    {
      "cell_type": "markdown",
      "source": [
        "  FIRST WE DEAL WITH THE SELF EYE STATE DATA.\n",
        "  for this we will use a fully connected neural network model."
      ],
      "metadata": {
        "id": "YLW-chbZsYR5"
      }
    },
    {
      "cell_type": "code",
      "source": [
        "data1=pd.read_csv(\"/content/drive/MyDrive/Datasets_used_for_model/self_eye_state.csv\")\n",
        "from sklearn.utils import shuffle\n",
        "data1=data1.dropna()\n",
        "data1=shuffle(data1)\n",
        "print(data1.head(),data1.tail(),data1.info())"
      ],
      "metadata": {
        "colab": {
          "base_uri": "https://localhost:8080/"
        },
        "id": "GzHCqM56sDHm",
        "outputId": "2b5c35ce-52cc-4a9f-f975-c80ba74bd4e4"
      },
      "execution_count": null,
      "outputs": [
        {
          "output_type": "stream",
          "name": "stdout",
          "text": [
            "<class 'pandas.core.frame.DataFrame'>\n",
            "Int64Index: 30020 entries, 5000 to 767\n",
            "Data columns (total 2 columns):\n",
            " #   Column  Non-Null Count  Dtype  \n",
            "---  ------  --------------  -----  \n",
            " 0   pd_t    30020 non-null  float64\n",
            " 1   target  30020 non-null  float64\n",
            "dtypes: float64(2)\n",
            "memory usage: 703.6 KB\n",
            "         pd_t  target\n",
            "5000  -209.93     0.0\n",
            "8224    18.10     0.0\n",
            "22368  -10.80     1.0\n",
            "915     44.74     0.0\n",
            "4196    31.42     0.0          pd_t  target\n",
            "6798   273.38     0.0\n",
            "19202   -7.10     1.0\n",
            "28323   -0.25     1.0\n",
            "5601   -19.10     0.0\n",
            "767    -35.89     0.0 None\n"
          ]
        }
      ]
    },
    {
      "cell_type": "code",
      "source": [
        "#Selecting the target and independent variable \n",
        "X=np.array(data1.pd_t).reshape(-1,1)\n",
        "Y=np.array(data1.target).reshape(-1,1)\n",
        "#printing the shapes of the variables\n",
        "print(X.shape,Y.shape)\n",
        "#standardising the data\n",
        "from sklearn.preprocessing import StandardScaler\n",
        "scaler=StandardScaler()\n",
        "X=scaler.fit_transform(X)"
      ],
      "metadata": {
        "colab": {
          "base_uri": "https://localhost:8080/"
        },
        "id": "a5Cmsyy7s26y",
        "outputId": "f8f9dbb0-23fc-40df-c545-690734ddbd49"
      },
      "execution_count": null,
      "outputs": [
        {
          "output_type": "stream",
          "name": "stdout",
          "text": [
            "(30020, 1) (30020, 1)\n"
          ]
        }
      ]
    },
    {
      "cell_type": "code",
      "source": [
        "#importing more libraries \n",
        "!pip install scikeras\n",
        "from scikeras.wrappers import KerasClassifier \n",
        "from sklearn.model_selection import cross_val_score\n",
        "from sklearn.model_selection import StratifiedKFold\n",
        "from sklearn.pipeline import Pipeline"
      ],
      "metadata": {
        "colab": {
          "base_uri": "https://localhost:8080/"
        },
        "id": "0-zunV75tNFN",
        "outputId": "b9945797-d353-4942-ec8e-b43421fc159f"
      },
      "execution_count": null,
      "outputs": [
        {
          "output_type": "stream",
          "name": "stdout",
          "text": [
            "Looking in indexes: https://pypi.org/simple, https://us-python.pkg.dev/colab-wheels/public/simple/\n",
            "Collecting scikeras\n",
            "  Downloading scikeras-0.8.0-py3-none-any.whl (27 kB)\n",
            "Requirement already satisfied: scikit-learn>=1.0.0 in /usr/local/lib/python3.7/dist-packages (from scikeras) (1.0.2)\n",
            "Requirement already satisfied: packaging<22.0,>=0.21 in /usr/local/lib/python3.7/dist-packages (from scikeras) (21.3)\n",
            "Requirement already satisfied: importlib-metadata>=3 in /usr/local/lib/python3.7/dist-packages (from scikeras) (4.12.0)\n",
            "Requirement already satisfied: zipp>=0.5 in /usr/local/lib/python3.7/dist-packages (from importlib-metadata>=3->scikeras) (3.8.1)\n",
            "Requirement already satisfied: typing-extensions>=3.6.4 in /usr/local/lib/python3.7/dist-packages (from importlib-metadata>=3->scikeras) (4.1.1)\n",
            "Requirement already satisfied: pyparsing!=3.0.5,>=2.0.2 in /usr/local/lib/python3.7/dist-packages (from packaging<22.0,>=0.21->scikeras) (3.0.9)\n",
            "Requirement already satisfied: joblib>=0.11 in /usr/local/lib/python3.7/dist-packages (from scikit-learn>=1.0.0->scikeras) (1.1.0)\n",
            "Requirement already satisfied: numpy>=1.14.6 in /usr/local/lib/python3.7/dist-packages (from scikit-learn>=1.0.0->scikeras) (1.21.6)\n",
            "Requirement already satisfied: scipy>=1.1.0 in /usr/local/lib/python3.7/dist-packages (from scikit-learn>=1.0.0->scikeras) (1.7.3)\n",
            "Requirement already satisfied: threadpoolctl>=2.0.0 in /usr/local/lib/python3.7/dist-packages (from scikit-learn>=1.0.0->scikeras) (3.1.0)\n",
            "Installing collected packages: scikeras\n",
            "Successfully installed scikeras-0.8.0\n"
          ]
        }
      ]
    },
    {
      "cell_type": "code",
      "source": [
        "#before proceeding we se the random_seed to number here we have use 42 so as to reproduce the results each  time it is run\n",
        "tf.random.set_seed(42)\n",
        "np.random.seed(42)"
      ],
      "metadata": {
        "id": "Teqazb3yuSHL"
      },
      "execution_count": null,
      "outputs": []
    },
    {
      "cell_type": "code",
      "source": [
        "#Visualizing the data \n",
        "plt.figure(figsize=(16,8))\n",
        "for i in range(data1.values.shape[1]):\n",
        "    plt.subplot(data1.values.shape[1],1,i+1)\n",
        "    plt.plot(data1.values[:,i])\n",
        "plt.show()"
      ],
      "metadata": {
        "colab": {
          "base_uri": "https://localhost:8080/",
          "height": 483
        },
        "id": "POZV3Gj9xb2l",
        "outputId": "6c212ae3-2eb5-4b90-812d-8535ca0ca8f2"
      },
      "execution_count": null,
      "outputs": [
        {
          "output_type": "display_data",
          "data": {
            "text/plain": [
              "<Figure size 1152x576 with 2 Axes>"
            ],
            "image/png": "[encoded data removed]"
          },
          "metadata": {
            "needs_background": "light"
          }
        }
      ]
    },
    {
      "cell_type": "code",
      "source": [
        "#train_test_split \n",
        "from sklearn.model_selection import train_test_split as tts\n",
        "x_train_val,x_test,y_train_val,y_test=tts(X,Y,test_size=0.3,random_state=42)\n",
        "x_train,x_val,y_train,y_val=tts(x_train_val,y_train_val,test_size=0.2,random_state=42)\n",
        "print(x_train.shape,x_val.shape,y_train.shape,y_val.shape,x_test.shape,y_test.shape)"
      ],
      "metadata": {
        "colab": {
          "base_uri": "https://localhost:8080/"
        },
        "id": "XT9OgOwA4ReM",
        "outputId": "a10ab5f9-a114-4407-f4d3-5ee694b98972"
      },
      "execution_count": null,
      "outputs": [
        {
          "output_type": "stream",
          "name": "stdout",
          "text": [
            "(16811, 1) (4203, 1) (16811, 1) (4203, 1) (9006, 1) (9006, 1)\n"
          ]
        }
      ]
    },
    {
      "cell_type": "markdown",
      "source": [
        "BASELINE MODEL "
      ],
      "metadata": {
        "id": "6bnyH0I48zK1"
      }
    },
    {
      "cell_type": "code",
      "source": [
        "model1=keras.Sequential([\n",
        "                         keras.layers.Dense(60,activation='relu',input_shape=(X.shape)),\n",
        "                         keras.layers.Dense(60,activation='relu'),\n",
        "                         keras.layers.Dense(60,activation='relu'),\n",
        "                         keras.layers.Dense(1,activation='sigmoid')\n",
        "])\n",
        "model1.summary()"
      ],
      "metadata": {
        "colab": {
          "base_uri": "https://localhost:8080/"
        },
        "id": "h7zKvi0W8pQs",
        "outputId": "49487af8-3970-457c-e167-453fa1baf707"
      },
      "execution_count": null,
      "outputs": [
        {
          "output_type": "stream",
          "name": "stdout",
          "text": [
            "Model: \"sequential_1\"\n",
            "_________________________________________________________________\n",
            " Layer (type)                Output Shape              Param #   \n",
            "=================================================================\n",
            " dense_4 (Dense)             (None, 30020, 60)         120       \n",
            "                                                                 \n",
            " dense_5 (Dense)             (None, 30020, 60)         3660      \n",
            "                                                                 \n",
            " dense_6 (Dense)             (None, 30020, 60)         3660      \n",
            "                                                                 \n",
            " dense_7 (Dense)             (None, 30020, 1)          61        \n",
            "                                                                 \n",
            "=================================================================\n",
            "Total params: 7,501\n",
            "Trainable params: 7,501\n",
            "Non-trainable params: 0\n",
            "_________________________________________________________________\n"
          ]
        }
      ]
    },
    {
      "cell_type": "code",
      "source": [
        "model1.compile(loss=\"binary_crossentropy\",optimizer=\"adam\",\n",
        "              metrics=['accuracy'])"
      ],
      "metadata": {
        "id": "sZ7x40FC-wA5"
      },
      "execution_count": null,
      "outputs": []
    },
    {
      "cell_type": "code",
      "source": [
        "#creating early callbacks \n",
        "early_stopping_cb=keras.callbacks.EarlyStopping(patience=5,restore_best_weights=True)#stops when there is no further decrease in val loss\n",
        "checkpoint_cb=keras.callbacks.ModelCheckpoint(\"early_stop_Model.h5\",save_best_onlny=True)#saves the model where validation loss is the least\n",
        "\n",
        "model_history=model1.fit(x_train,y_train,epochs=200,validation_data=(x_val,y_val),callbacks=[checkpoint_cb,early_stopping_cb])\n"
      ],
      "metadata": {
        "colab": {
          "base_uri": "https://localhost:8080/"
        },
        "id": "V4i4HubQ_NY7",
        "outputId": "fb5d8d5f-ae6f-4fba-958f-2e2eb7f59303"
      },
      "execution_count": null,
      "outputs": [
        {
          "output_type": "stream",
          "name": "stdout",
          "text": [
            "Epoch 1/200\n",
            "WARNING:tensorflow:Model was constructed with shape (None, 30020, 1) for input KerasTensor(type_spec=TensorSpec(shape=(None, 30020, 1), dtype=tf.float32, name='dense_4_input'), name='dense_4_input', description=\"created by layer 'dense_4_input'\"), but it was called on an input with incompatible shape (None, 1, 1).\n",
            "WARNING:tensorflow:Model was constructed with shape (None, 30020, 1) for input KerasTensor(type_spec=TensorSpec(shape=(None, 30020, 1), dtype=tf.float32, name='dense_4_input'), name='dense_4_input', description=\"created by layer 'dense_4_input'\"), but it was called on an input with incompatible shape (None, 1, 1).\n",
            "517/526 [============================>.] - ETA: 0s - loss: 0.3659 - accuracy: 0.8585WARNING:tensorflow:Model was constructed with shape (None, 30020, 1) for input KerasTensor(type_spec=TensorSpec(shape=(None, 30020, 1), dtype=tf.float32, name='dense_4_input'), name='dense_4_input', description=\"created by layer 'dense_4_input'\"), but it was called on an input with incompatible shape (None, 1, 1).\n",
            "526/526 [==============================] - 2s 2ms/step - loss: 0.3646 - accuracy: 0.8593 - val_loss: 0.2852 - val_accuracy: 0.8984\n",
            "Epoch 2/200\n",
            "526/526 [==============================] - 1s 2ms/step - loss: 0.3118 - accuracy: 0.8858 - val_loss: 0.2843 - val_accuracy: 0.8972\n",
            "Epoch 3/200\n",
            "526/526 [==============================] - 1s 2ms/step - loss: 0.3123 - accuracy: 0.8874 - val_loss: 0.2845 - val_accuracy: 0.8977\n",
            "Epoch 4/200\n",
            "526/526 [==============================] - 1s 2ms/step - loss: 0.3112 - accuracy: 0.8862 - val_loss: 0.2886 - val_accuracy: 0.8965\n",
            "Epoch 5/200\n",
            "526/526 [==============================] - 1s 2ms/step - loss: 0.3105 - accuracy: 0.8861 - val_loss: 0.2874 - val_accuracy: 0.8958\n",
            "Epoch 6/200\n",
            "526/526 [==============================] - 1s 2ms/step - loss: 0.3107 - accuracy: 0.8864 - val_loss: 0.2826 - val_accuracy: 0.8975\n",
            "Epoch 7/200\n",
            "526/526 [==============================] - 1s 2ms/step - loss: 0.3109 - accuracy: 0.8859 - val_loss: 0.2839 - val_accuracy: 0.8977\n",
            "Epoch 8/200\n",
            "526/526 [==============================] - 1s 2ms/step - loss: 0.3095 - accuracy: 0.8870 - val_loss: 0.2891 - val_accuracy: 0.8977\n",
            "Epoch 9/200\n",
            "526/526 [==============================] - 1s 2ms/step - loss: 0.3094 - accuracy: 0.8870 - val_loss: 0.2880 - val_accuracy: 0.8956\n",
            "Epoch 10/200\n",
            "526/526 [==============================] - 1s 2ms/step - loss: 0.3101 - accuracy: 0.8861 - val_loss: 0.2846 - val_accuracy: 0.8970\n",
            "Epoch 11/200\n",
            "526/526 [==============================] - 1s 2ms/step - loss: 0.3099 - accuracy: 0.8863 - val_loss: 0.2917 - val_accuracy: 0.8977\n"
          ]
        }
      ]
    },
    {
      "cell_type": "code",
      "source": [
        "model_history.history"
      ],
      "metadata": {
        "colab": {
          "base_uri": "https://localhost:8080/"
        },
        "id": "v-bUS2h8_oau",
        "outputId": "e3267536-84b3-47df-f05e-5ff48afa62f2"
      },
      "execution_count": null,
      "outputs": [
        {
          "output_type": "execute_result",
          "data": {
            "text/plain": [
              "{'accuracy': [0.8592588305473328,\n",
              "  0.8857890963554382,\n",
              "  0.8873951435089111,\n",
              "  0.8862054347991943,\n",
              "  0.8860864639282227,\n",
              "  0.8863838911056519,\n",
              "  0.8859080076217651,\n",
              "  0.8869787454605103,\n",
              "  0.8869787454605103,\n",
              "  0.8861459493637085,\n",
              "  0.886324405670166],\n",
              " 'loss': [0.36458274722099304,\n",
              "  0.3118131756782532,\n",
              "  0.3122994899749756,\n",
              "  0.3112435042858124,\n",
              "  0.3104570806026459,\n",
              "  0.31073445081710815,\n",
              "  0.31093043088912964,\n",
              "  0.3095482289791107,\n",
              "  0.30937162041664124,\n",
              "  0.31011709570884705,\n",
              "  0.30987346172332764],\n",
              " 'val_accuracy': [0.898405909538269,\n",
              "  0.897216260433197,\n",
              "  0.8976921439170837,\n",
              "  0.8965024948120117,\n",
              "  0.8957887291908264,\n",
              "  0.8974542021751404,\n",
              "  0.8976921439170837,\n",
              "  0.8976921439170837,\n",
              "  0.8955507874488831,\n",
              "  0.8969783782958984,\n",
              "  0.8976921439170837],\n",
              " 'val_loss': [0.2852283716201782,\n",
              "  0.2843460440635681,\n",
              "  0.28453418612480164,\n",
              "  0.2886299788951874,\n",
              "  0.28739431500434875,\n",
              "  0.2825835645198822,\n",
              "  0.2839137315750122,\n",
              "  0.28908979892730713,\n",
              "  0.2879546880722046,\n",
              "  0.2846272885799408,\n",
              "  0.2917094826698303]}"
            ]
          },
          "metadata": {},
          "execution_count": 12
        }
      ]
    },
    {
      "cell_type": "code",
      "source": [
        "pd.DataFrame(model_history.history).plot(figsize=(16,8))\n",
        "plt.gca()\n",
        "plt.grid(True)\n",
        "plt.show()"
      ],
      "metadata": {
        "colab": {
          "base_uri": "https://localhost:8080/",
          "height": 483
        },
        "id": "UzfklMDzErGo",
        "outputId": "bc15c2b7-5746-411f-df07-7b14b30d3d04"
      },
      "execution_count": null,
      "outputs": [
        {
          "output_type": "display_data",
          "data": {
            "text/plain": [
              "<Figure size 1152x576 with 1 Axes>"
            ],
            "image/png": "[encoded data removed]"
          },
          "metadata": {
            "needs_background": "light"
          }
        }
      ]
    },
    {
      "cell_type": "markdown",
      "source": [
        "It is evident from the above graph that the model has converged.\n",
        "Also since there is no significant difference among the loss and val_loss we can say that the model is correct and is neigther underfitting nor overfitting"
      ],
      "metadata": {
        "id": "lQdH1IShHf37"
      }
    },
    {
      "cell_type": "code",
      "source": [
        "#evaluating the model \n",
        "evaluation=model1.evaluate(x_test,y_test)\n",
        "print(\"The loss is {loss:0.2f}  \\n The accuracy is {accuracy:.02f}\".format(loss=evaluation[0],accuracy=evaluation[1]*100))"
      ],
      "metadata": {
        "id": "BUdknaTfIMmP",
        "colab": {
          "base_uri": "https://localhost:8080/"
        },
        "outputId": "224007b5-0d5f-4fd5-f3fe-bde00720d97e"
      },
      "execution_count": null,
      "outputs": [
        {
          "output_type": "stream",
          "name": "stdout",
          "text": [
            "282/282 [==============================] - 0s 890us/step - loss: 0.3128 - accuracy: 0.8824\n",
            "The loss is 0.31  \n",
            " The accuracy is 88.24\n"
          ]
        }
      ]
    },
    {
      "cell_type": "markdown",
      "source": [
        "Predicting using the model"
      ],
      "metadata": {
        "id": "j8iwIHTeJRIT"
      }
    },
    {
      "cell_type": "code",
      "source": [
        "#prediction \n",
        "def prediction(model,inp):\n",
        "  y_pred = np.argmax(model.predict(inp), axis=-1)\n",
        "  return y_pred"
      ],
      "metadata": {
        "id": "OU5nzpfbJTH2"
      },
      "execution_count": null,
      "outputs": []
    },
    {
      "cell_type": "code",
      "source": [
        "#Plotting the model\n",
        "keras.utils.plot_model(model1, \"early_stop_Model.png\")"
      ],
      "metadata": {
        "id": "x3NEtXyuLPQA",
        "colab": {
          "base_uri": "https://localhost:8080/",
          "height": 466
        },
        "outputId": "de53921b-7550-4496-873f-988fa5aeb5ca"
      },
      "execution_count": null,
      "outputs": [
        {
          "output_type": "execute_result",
          "data": {
            "text/plain": [
              "<IPython.core.display.Image object>"
            ],
            "image/png": "[encoded data removed]"
          },
          "metadata": {},
          "execution_count": 16
        }
      ]
    },
    {
      "cell_type": "markdown",
      "source": [
        "**CROSS VALIDATION AND SACLING** \n",
        "\n",
        "We us cross validation so as to check if the model can be trained more efficiently and if it can perform better or not.\n",
        "Under cross validation the model undergoes training among different training sets divided into batches also called folds. If ther are k folds then model undergoes training of k-1 folds and validation over the left over training set"
      ],
      "metadata": {
        "id": "oqoZK84uHwxG"
      }
    },
    {
      "cell_type": "code",
      "source": [
        "def create_model():\n",
        "  model1_a=keras.Sequential([\n",
        "                         keras.layers.Dense(60,activation='relu',input_shape=[1]),\n",
        "                         keras.layers.Dense(60,activation='relu'),\n",
        "                         keras.layers.Dense(60,activation='relu'),\n",
        "                         keras.layers.Dense(1,activation='sigmoid')])\n",
        "  model1_a.compile(loss=\"binary_crossentropy\",optimizer=keras.optimizers.SGD(lr=1e-4),\n",
        "              metrics=['accuracy'])\n",
        "  return model1_a\n",
        "estimators = []\n",
        "estimators.append(('standardize', StandardScaler()))\n",
        "estimators.append(('mlp', KerasClassifier(model=model1, epochs=100, batch_size=5, verbose=0)))\n",
        "pipeline = Pipeline(estimators)\n",
        "kfold = StratifiedKFold(n_splits=10, shuffle=True)\n",
        "results = cross_val_score(pipeline,x_train_val.reshape(-1,1), y_train_val, cv=kfold)\n"
      ],
      "metadata": {
        "id": "MUZUXg9XHZgQ",
        "colab": {
          "base_uri": "https://localhost:8080/"
        },
        "outputId": "d0363b4f-4787-46c6-a85e-9e6198cf5d01"
      },
      "execution_count": null,
      "outputs": [
        {
          "output_type": "stream",
          "name": "stdout",
          "text": [
            "INFO:tensorflow:Assets written to: ram:///tmp/tmpkkwsg2bz/assets\n",
            "WARNING:tensorflow:Model was constructed with shape (None, 30020, 1) for input KerasTensor(type_spec=TensorSpec(shape=(None, 30020, 1), dtype=tf.float32, name='dense_4_input'), name='dense_4_input', description=\"created by layer 'dense_4_input'\"), but it was called on an input with incompatible shape (None, 1, 1).\n",
            "WARNING:tensorflow:Model was constructed with shape (None, 30020, 1) for input KerasTensor(type_spec=TensorSpec(shape=(None, 30020, 1), dtype=tf.float32, name='dense_4_input'), name='dense_4_input', description=\"created by layer 'dense_4_input'\"), but it was called on an input with incompatible shape (None, 1, 1).\n",
            "WARNING:tensorflow:Model was constructed with shape (None, 30020, 1) for input KerasTensor(type_spec=TensorSpec(shape=(None, 30020, 1), dtype=tf.float32, name='dense_4_input'), name='dense_4_input', description=\"created by layer 'dense_4_input'\"), but it was called on an input with incompatible shape (None, 1, 1).\n",
            "INFO:tensorflow:Assets written to: ram:///tmp/tmps8ywdfbv/assets\n",
            "WARNING:tensorflow:Model was constructed with shape (None, 30020, 1) for input KerasTensor(type_spec=TensorSpec(shape=(None, 30020, 1), dtype=tf.float32, name='dense_4_input'), name='dense_4_input', description=\"created by layer 'dense_4_input'\"), but it was called on an input with incompatible shape (None, 1, 1).\n",
            "WARNING:tensorflow:Model was constructed with shape (None, 30020, 1) for input KerasTensor(type_spec=TensorSpec(shape=(None, 30020, 1), dtype=tf.float32, name='dense_4_input'), name='dense_4_input', description=\"created by layer 'dense_4_input'\"), but it was called on an input with incompatible shape (None, 1, 1).\n",
            "WARNING:tensorflow:Model was constructed with shape (None, 30020, 1) for input KerasTensor(type_spec=TensorSpec(shape=(None, 30020, 1), dtype=tf.float32, name='dense_4_input'), name='dense_4_input', description=\"created by layer 'dense_4_input'\"), but it was called on an input with incompatible shape (None, 1, 1).\n",
            "INFO:tensorflow:Assets written to: ram:///tmp/tmpxp7prof7/assets\n",
            "WARNING:tensorflow:Model was constructed with shape (None, 30020, 1) for input KerasTensor(type_spec=TensorSpec(shape=(None, 30020, 1), dtype=tf.float32, name='dense_4_input'), name='dense_4_input', description=\"created by layer 'dense_4_input'\"), but it was called on an input with incompatible shape (None, 1, 1).\n",
            "WARNING:tensorflow:Model was constructed with shape (None, 30020, 1) for input KerasTensor(type_spec=TensorSpec(shape=(None, 30020, 1), dtype=tf.float32, name='dense_4_input'), name='dense_4_input', description=\"created by layer 'dense_4_input'\"), but it was called on an input with incompatible shape (None, 1, 1).\n",
            "WARNING:tensorflow:Model was constructed with shape (None, 30020, 1) for input KerasTensor(type_spec=TensorSpec(shape=(None, 30020, 1), dtype=tf.float32, name='dense_4_input'), name='dense_4_input', description=\"created by layer 'dense_4_input'\"), but it was called on an input with incompatible shape (None, 1, 1).\n",
            "INFO:tensorflow:Assets written to: ram:///tmp/tmp7wyox38_/assets\n",
            "WARNING:tensorflow:Model was constructed with shape (None, 30020, 1) for input KerasTensor(type_spec=TensorSpec(shape=(None, 30020, 1), dtype=tf.float32, name='dense_4_input'), name='dense_4_input', description=\"created by layer 'dense_4_input'\"), but it was called on an input with incompatible shape (None, 1, 1).\n",
            "WARNING:tensorflow:Model was constructed with shape (None, 30020, 1) for input KerasTensor(type_spec=TensorSpec(shape=(None, 30020, 1), dtype=tf.float32, name='dense_4_input'), name='dense_4_input', description=\"created by layer 'dense_4_input'\"), but it was called on an input with incompatible shape (None, 1, 1).\n",
            "WARNING:tensorflow:Model was constructed with shape (None, 30020, 1) for input KerasTensor(type_spec=TensorSpec(shape=(None, 30020, 1), dtype=tf.float32, name='dense_4_input'), name='dense_4_input', description=\"created by layer 'dense_4_input'\"), but it was called on an input with incompatible shape (None, 1, 1).\n",
            "INFO:tensorflow:Assets written to: ram:///tmp/tmpu62kqsdo/assets\n",
            "WARNING:tensorflow:Model was constructed with shape (None, 30020, 1) for input KerasTensor(type_spec=TensorSpec(shape=(None, 30020, 1), dtype=tf.float32, name='dense_4_input'), name='dense_4_input', description=\"created by layer 'dense_4_input'\"), but it was called on an input with incompatible shape (None, 1, 1).\n",
            "WARNING:tensorflow:Model was constructed with shape (None, 30020, 1) for input KerasTensor(type_spec=TensorSpec(shape=(None, 30020, 1), dtype=tf.float32, name='dense_4_input'), name='dense_4_input', description=\"created by layer 'dense_4_input'\"), but it was called on an input with incompatible shape (None, 1, 1).\n",
            "WARNING:tensorflow:Model was constructed with shape (None, 30020, 1) for input KerasTensor(type_spec=TensorSpec(shape=(None, 30020, 1), dtype=tf.float32, name='dense_4_input'), name='dense_4_input', description=\"created by layer 'dense_4_input'\"), but it was called on an input with incompatible shape (None, 1, 1).\n",
            "INFO:tensorflow:Assets written to: ram:///tmp/tmpsiv4t7s2/assets\n",
            "WARNING:tensorflow:Model was constructed with shape (None, 30020, 1) for input KerasTensor(type_spec=TensorSpec(shape=(None, 30020, 1), dtype=tf.float32, name='dense_4_input'), name='dense_4_input', description=\"created by layer 'dense_4_input'\"), but it was called on an input with incompatible shape (None, 1, 1).\n",
            "WARNING:tensorflow:Model was constructed with shape (None, 30020, 1) for input KerasTensor(type_spec=TensorSpec(shape=(None, 30020, 1), dtype=tf.float32, name='dense_4_input'), name='dense_4_input', description=\"created by layer 'dense_4_input'\"), but it was called on an input with incompatible shape (None, 1, 1).\n",
            "WARNING:tensorflow:Model was constructed with shape (None, 30020, 1) for input KerasTensor(type_spec=TensorSpec(shape=(None, 30020, 1), dtype=tf.float32, name='dense_4_input'), name='dense_4_input', description=\"created by layer 'dense_4_input'\"), but it was called on an input with incompatible shape (None, 1, 1).\n",
            "INFO:tensorflow:Assets written to: ram:///tmp/tmpzydbmevm/assets\n",
            "WARNING:tensorflow:Model was constructed with shape (None, 30020, 1) for input KerasTensor(type_spec=TensorSpec(shape=(None, 30020, 1), dtype=tf.float32, name='dense_4_input'), name='dense_4_input', description=\"created by layer 'dense_4_input'\"), but it was called on an input with incompatible shape (None, 1, 1).\n",
            "WARNING:tensorflow:Model was constructed with shape (None, 30020, 1) for input KerasTensor(type_spec=TensorSpec(shape=(None, 30020, 1), dtype=tf.float32, name='dense_4_input'), name='dense_4_input', description=\"created by layer 'dense_4_input'\"), but it was called on an input with incompatible shape (None, 1, 1).\n",
            "WARNING:tensorflow:Model was constructed with shape (None, 30020, 1) for input KerasTensor(type_spec=TensorSpec(shape=(None, 30020, 1), dtype=tf.float32, name='dense_4_input'), name='dense_4_input', description=\"created by layer 'dense_4_input'\"), but it was called on an input with incompatible shape (None, 1, 1).\n",
            "INFO:tensorflow:Assets written to: ram:///tmp/tmpdrq2tg3_/assets\n",
            "WARNING:tensorflow:Model was constructed with shape (None, 30020, 1) for input KerasTensor(type_spec=TensorSpec(shape=(None, 30020, 1), dtype=tf.float32, name='dense_4_input'), name='dense_4_input', description=\"created by layer 'dense_4_input'\"), but it was called on an input with incompatible shape (None, 1, 1).\n",
            "WARNING:tensorflow:Model was constructed with shape (None, 30020, 1) for input KerasTensor(type_spec=TensorSpec(shape=(None, 30020, 1), dtype=tf.float32, name='dense_4_input'), name='dense_4_input', description=\"created by layer 'dense_4_input'\"), but it was called on an input with incompatible shape (None, 1, 1).\n",
            "WARNING:tensorflow:Model was constructed with shape (None, 30020, 1) for input KerasTensor(type_spec=TensorSpec(shape=(None, 30020, 1), dtype=tf.float32, name='dense_4_input'), name='dense_4_input', description=\"created by layer 'dense_4_input'\"), but it was called on an input with incompatible shape (None, 1, 1).\n",
            "INFO:tensorflow:Assets written to: ram:///tmp/tmpo_xmddh3/assets\n",
            "WARNING:tensorflow:Model was constructed with shape (None, 30020, 1) for input KerasTensor(type_spec=TensorSpec(shape=(None, 30020, 1), dtype=tf.float32, name='dense_4_input'), name='dense_4_input', description=\"created by layer 'dense_4_input'\"), but it was called on an input with incompatible shape (None, 1, 1).\n",
            "WARNING:tensorflow:Model was constructed with shape (None, 30020, 1) for input KerasTensor(type_spec=TensorSpec(shape=(None, 30020, 1), dtype=tf.float32, name='dense_4_input'), name='dense_4_input', description=\"created by layer 'dense_4_input'\"), but it was called on an input with incompatible shape (None, 1, 1).\n",
            "WARNING:tensorflow:Model was constructed with shape (None, 30020, 1) for input KerasTensor(type_spec=TensorSpec(shape=(None, 30020, 1), dtype=tf.float32, name='dense_4_input'), name='dense_4_input', description=\"created by layer 'dense_4_input'\"), but it was called on an input with incompatible shape (None, 1, 1).\n",
            "INFO:tensorflow:Assets written to: ram:///tmp/tmpe0gly6s9/assets\n",
            "WARNING:tensorflow:Model was constructed with shape (None, 30020, 1) for input KerasTensor(type_spec=TensorSpec(shape=(None, 30020, 1), dtype=tf.float32, name='dense_4_input'), name='dense_4_input', description=\"created by layer 'dense_4_input'\"), but it was called on an input with incompatible shape (None, 1, 1).\n",
            "WARNING:tensorflow:Model was constructed with shape (None, 30020, 1) for input KerasTensor(type_spec=TensorSpec(shape=(None, 30020, 1), dtype=tf.float32, name='dense_4_input'), name='dense_4_input', description=\"created by layer 'dense_4_input'\"), but it was called on an input with incompatible shape (None, 1, 1).\n",
            "WARNING:tensorflow:Model was constructed with shape (None, 30020, 1) for input KerasTensor(type_spec=TensorSpec(shape=(None, 30020, 1), dtype=tf.float32, name='dense_4_input'), name='dense_4_input', description=\"created by layer 'dense_4_input'\"), but it was called on an input with incompatible shape (None, 1, 1).\n"
          ]
        }
      ]
    },
    {
      "cell_type": "code",
      "source": [
        "type(results)"
      ],
      "metadata": {
        "id": "cdmQtqtRtZa7",
        "colab": {
          "base_uri": "https://localhost:8080/"
        },
        "outputId": "bf68367f-b75e-4b60-e6c5-db5ab6d1c651"
      },
      "execution_count": null,
      "outputs": [
        {
          "output_type": "execute_result",
          "data": {
            "text/plain": [
              "numpy.ndarray"
            ]
          },
          "metadata": {},
          "execution_count": 18
        }
      ]
    },
    {
      "cell_type": "code",
      "source": [
        "results\n",
        "plt.plot(results,linewidth=\"2\")\n",
        "plt.grid(True)\n",
        "plt.title(\"Cross validation Score\")"
      ],
      "metadata": {
        "id": "AAu6JxDUtqzQ",
        "colab": {
          "base_uri": "https://localhost:8080/",
          "height": 298
        },
        "outputId": "792850da-015d-4e6c-b0f8-e86cdde29958"
      },
      "execution_count": null,
      "outputs": [
        {
          "output_type": "execute_result",
          "data": {
            "text/plain": [
              "Text(0.5, 1.0, 'Cross validation Score')"
            ]
          },
          "metadata": {},
          "execution_count": 23
        },
        {
          "output_type": "display_data",
          "data": {
            "text/plain": [
              "<Figure size 432x288 with 1 Axes>"
            ],
            "image/png": "[encoded data removed]"
          },
          "metadata": {
            "needs_background": "light"
          }
        }
      ]
    },
    {
      "cell_type": "code",
      "source": [
        "print(\"Average accuracy is: \",results.mean()*100)"
      ],
      "metadata": {
        "id": "Nyd0nuiWttKW",
        "colab": {
          "base_uri": "https://localhost:8080/"
        },
        "outputId": "6437cebe-f8e5-4989-e8ab-cf3f5dd2562e"
      },
      "execution_count": null,
      "outputs": [
        {
          "output_type": "stream",
          "name": "stdout",
          "text": [
            "Average accuracy is:  88.83131860094713\n"
          ]
        }
      ]
    },
    {
      "cell_type": "code",
      "source": [
        ""
      ],
      "metadata": {
        "id": "_IM_X36GpCpA"
      },
      "execution_count": null,
      "outputs": []
    }
  ]
}